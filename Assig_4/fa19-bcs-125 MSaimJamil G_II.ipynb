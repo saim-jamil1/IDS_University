{
 "cells": [
  {
   "cell_type": "code",
   "execution_count": null,
   "id": "d41a7ac8",
   "metadata": {},
   "outputs": [],
   "source": [
    "# Assign 4\n",
    "# Dataset  gender prediction"
   ]
  },
  {
   "cell_type": "code",
   "execution_count": 1,
   "id": "e1fa3f06",
   "metadata": {},
   "outputs": [],
   "source": [
    "# Imports\n",
    "import pandas as pd\n",
    "import numpy as np\n",
    "from sklearn import preprocessing\n",
    "from sklearn.model_selection import train_test_split\n",
    "\n",
    "\n",
    "from sklearn.ensemble import RandomForestClassifier\n",
    "from sklearn.neural_network import MLPClassifier\n",
    "from sklearn.tree import DecisionTreeClassifier\n",
    "from sklearn.svm import SVC, LinearSVC\n",
    "from sklearn.naive_bayes import GaussianNB, BernoulliNB, MultinomialNB\n",
    "from sklearn.linear_model import LogisticRegression\n",
    "\n",
    "\n",
    "\n",
    "\n",
    "\n",
    "\n",
    "\n",
    "\n",
    "#import ML evaluation metrics\n",
    "from sklearn.metrics import accuracy_score, f1_score,recall_score,precision_score\n",
    "from sklearn.model_selection import ShuffleSplit, cross_val_predict, cross_val_score, LeavePOut\n",
    "from sklearn.model_selection import train_test_split\n",
    "from sklearn import metrics, model_selection\n",
    "\n"
   ]
  },
  {
   "cell_type": "code",
   "execution_count": 2,
   "id": "1ea52eed",
   "metadata": {},
   "outputs": [
    {
     "data": {
      "text/html": [
       "<div>\n",
       "<style scoped>\n",
       "    .dataframe tbody tr th:only-of-type {\n",
       "        vertical-align: middle;\n",
       "    }\n",
       "\n",
       "    .dataframe tbody tr th {\n",
       "        vertical-align: top;\n",
       "    }\n",
       "\n",
       "    .dataframe thead th {\n",
       "        text-align: right;\n",
       "    }\n",
       "</style>\n",
       "<table border=\"1\" class=\"dataframe\">\n",
       "  <thead>\n",
       "    <tr style=\"text-align: right;\">\n",
       "      <th></th>\n",
       "      <th>height</th>\n",
       "      <th>weight</th>\n",
       "      <th>beard</th>\n",
       "      <th>hair_length</th>\n",
       "      <th>shoe_size</th>\n",
       "      <th>scarf</th>\n",
       "      <th>eye_color</th>\n",
       "      <th>gender</th>\n",
       "    </tr>\n",
       "  </thead>\n",
       "  <tbody>\n",
       "    <tr>\n",
       "      <th>0</th>\n",
       "      <td>71</td>\n",
       "      <td>176</td>\n",
       "      <td>yes</td>\n",
       "      <td>short</td>\n",
       "      <td>44</td>\n",
       "      <td>no</td>\n",
       "      <td>black</td>\n",
       "      <td>male</td>\n",
       "    </tr>\n",
       "    <tr>\n",
       "      <th>1</th>\n",
       "      <td>68</td>\n",
       "      <td>165</td>\n",
       "      <td>no</td>\n",
       "      <td>bald</td>\n",
       "      <td>41</td>\n",
       "      <td>no</td>\n",
       "      <td>black</td>\n",
       "      <td>male</td>\n",
       "    </tr>\n",
       "    <tr>\n",
       "      <th>2</th>\n",
       "      <td>62</td>\n",
       "      <td>132</td>\n",
       "      <td>no</td>\n",
       "      <td>medium</td>\n",
       "      <td>37</td>\n",
       "      <td>yes</td>\n",
       "      <td>blue</td>\n",
       "      <td>female</td>\n",
       "    </tr>\n",
       "    <tr>\n",
       "      <th>3</th>\n",
       "      <td>65</td>\n",
       "      <td>138</td>\n",
       "      <td>no</td>\n",
       "      <td>long</td>\n",
       "      <td>38</td>\n",
       "      <td>no</td>\n",
       "      <td>gray</td>\n",
       "      <td>female</td>\n",
       "    </tr>\n",
       "    <tr>\n",
       "      <th>4</th>\n",
       "      <td>70</td>\n",
       "      <td>197</td>\n",
       "      <td>yes</td>\n",
       "      <td>medium</td>\n",
       "      <td>43</td>\n",
       "      <td>no</td>\n",
       "      <td>gray</td>\n",
       "      <td>male</td>\n",
       "    </tr>\n",
       "    <tr>\n",
       "      <th>...</th>\n",
       "      <td>...</td>\n",
       "      <td>...</td>\n",
       "      <td>...</td>\n",
       "      <td>...</td>\n",
       "      <td>...</td>\n",
       "      <td>...</td>\n",
       "      <td>...</td>\n",
       "      <td>...</td>\n",
       "    </tr>\n",
       "    <tr>\n",
       "      <th>75</th>\n",
       "      <td>65</td>\n",
       "      <td>99</td>\n",
       "      <td>no</td>\n",
       "      <td>short</td>\n",
       "      <td>39</td>\n",
       "      <td>yes</td>\n",
       "      <td>green</td>\n",
       "      <td>female</td>\n",
       "    </tr>\n",
       "    <tr>\n",
       "      <th>76</th>\n",
       "      <td>61</td>\n",
       "      <td>98</td>\n",
       "      <td>no</td>\n",
       "      <td>short</td>\n",
       "      <td>37</td>\n",
       "      <td>no</td>\n",
       "      <td>brown</td>\n",
       "      <td>female</td>\n",
       "    </tr>\n",
       "    <tr>\n",
       "      <th>77</th>\n",
       "      <td>67</td>\n",
       "      <td>119</td>\n",
       "      <td>yes</td>\n",
       "      <td>short</td>\n",
       "      <td>40</td>\n",
       "      <td>no</td>\n",
       "      <td>black</td>\n",
       "      <td>male</td>\n",
       "    </tr>\n",
       "    <tr>\n",
       "      <th>78</th>\n",
       "      <td>70</td>\n",
       "      <td>190</td>\n",
       "      <td>yes</td>\n",
       "      <td>medium</td>\n",
       "      <td>43</td>\n",
       "      <td>no</td>\n",
       "      <td>gray</td>\n",
       "      <td>male</td>\n",
       "    </tr>\n",
       "    <tr>\n",
       "      <th>79</th>\n",
       "      <td>62</td>\n",
       "      <td>142</td>\n",
       "      <td>yes</td>\n",
       "      <td>long</td>\n",
       "      <td>37</td>\n",
       "      <td>no</td>\n",
       "      <td>blue</td>\n",
       "      <td>female</td>\n",
       "    </tr>\n",
       "  </tbody>\n",
       "</table>\n",
       "<p>80 rows × 8 columns</p>\n",
       "</div>"
      ],
      "text/plain": [
       "    height  weight beard hair_length  shoe_size scarf eye_color  gender\n",
       "0       71     176   yes       short         44    no     black    male\n",
       "1       68     165    no        bald         41    no     black    male\n",
       "2       62     132    no      medium         37   yes      blue  female\n",
       "3       65     138    no        long         38    no      gray  female\n",
       "4       70     197   yes      medium         43    no      gray    male\n",
       "..     ...     ...   ...         ...        ...   ...       ...     ...\n",
       "75      65      99    no       short         39   yes     green  female\n",
       "76      61      98    no       short         37    no     brown  female\n",
       "77      67     119   yes       short         40    no     black    male\n",
       "78      70     190   yes      medium         43    no      gray    male\n",
       "79      62     142   yes        long         37    no      blue  female\n",
       "\n",
       "[80 rows x 8 columns]"
      ]
     },
     "execution_count": 2,
     "metadata": {},
     "output_type": "execute_result"
    }
   ],
   "source": [
    "# Read Dataset\n",
    "df = pd.read_csv('gender_prediction.csv')\n",
    "df\n"
   ]
  },
  {
   "cell_type": "code",
   "execution_count": 3,
   "id": "8e698bec",
   "metadata": {},
   "outputs": [],
   "source": [
    "malecount = df[df['gender']=='male'].count()\n",
    "femalecount = df[df['gender']=='female'].count()\n"
   ]
  },
  {
   "cell_type": "code",
   "execution_count": 4,
   "id": "36cdad8f",
   "metadata": {},
   "outputs": [],
   "source": [
    "ratio = malecount/femalecount"
   ]
  },
  {
   "cell_type": "code",
   "execution_count": 5,
   "id": "291cd121",
   "metadata": {},
   "outputs": [],
   "source": [
    "# check categorical data \n",
    "a =df.select_dtypes(include=['object']).columns.tolist()\n"
   ]
  },
  {
   "cell_type": "markdown",
   "id": "db23dac7",
   "metadata": {},
   "source": [
    "# Q2# Apply Random Forest, Support Vector Machines, and Multilayer Perceptron classification algorithms\n"
   ]
  },
  {
   "cell_type": "code",
   "execution_count": 6,
   "id": "35adb626",
   "metadata": {},
   "outputs": [],
   "source": [
    "# dataprepration  for  algos\n",
    "\n",
    "height = df['height']\n",
    "weight = df['weight']\n",
    "beard = df['beard']\n",
    "hair_length = df['hair_length']\n",
    "shoe_size = df['shoe_size']\n",
    "scarf = df['scarf']\n",
    "eye_color = df['eye_color']\n",
    "gender=df['gender']\n"
   ]
  },
  {
   "cell_type": "code",
   "execution_count": 7,
   "id": "4448468b",
   "metadata": {},
   "outputs": [],
   "source": [
    "#Categorical data conversion into numeric form\n",
    "labels = preprocessing.LabelEncoder()\n",
    "beard_encod = labels.fit_transform(beard)\n",
    "hairlength_encod = labels.fit_transform(hair_length)\n",
    "scarf_encod = labels.fit_transform(scarf)\n",
    "eyecolor_encod = labels.fit_transform(eye_color)\n",
    "gender_encod = labels.fit_transform(gender)\n"
   ]
  },
  {
   "cell_type": "code",
   "execution_count": 8,
   "id": "fdc45a00",
   "metadata": {},
   "outputs": [],
   "source": [
    "#combining input\n",
    "\n",
    "input_ = list(zip(height,weight,beard_encod,hairlength_encod,shoe_size,scarf_encod,eyecolor_encod))\n",
    "\n"
   ]
  },
  {
   "cell_type": "code",
   "execution_count": 9,
   "id": "d604b1ad",
   "metadata": {},
   "outputs": [],
   "source": [
    "#output \n",
    "output = gender_encod"
   ]
  },
  {
   "cell_type": "code",
   "execution_count": 10,
   "id": "80e108e5",
   "metadata": {},
   "outputs": [],
   "source": [
    "# Standard Value split = 66% train  33%test\n",
    "X_train, X_test, Y_train, Y_test = train_test_split(input_, output, test_size = 0.33, random_state = 9)"
   ]
  },
  {
   "cell_type": "code",
   "execution_count": 11,
   "id": "57675bb6",
   "metadata": {},
   "outputs": [],
   "source": [
    "#Applying Random Forest, Support Vector Machines, and Multilayer Perceptron \n",
    "\n",
    "\n"
   ]
  },
  {
   "cell_type": "code",
   "execution_count": 12,
   "id": "d9f927c8",
   "metadata": {},
   "outputs": [
    {
     "name": "stdout",
     "output_type": "stream",
     "text": [
      "Accuracy using Random Forest is = \n",
      "96.29629629629629\n",
      "Confusion Matrix using Random Forest is \n",
      "\n",
      "[[12  1]\n",
      " [ 0 14]]\n",
      "Classification report \n",
      "\n",
      "              precision    recall  f1-score   support\n",
      "\n",
      "           0       1.00      0.92      0.96        13\n",
      "           1       0.93      1.00      0.97        14\n",
      "\n",
      "    accuracy                           0.96        27\n",
      "   macro avg       0.97      0.96      0.96        27\n",
      "weighted avg       0.97      0.96      0.96        27\n",
      "\n"
     ]
    }
   ],
   "source": [
    "#Applying Random Forest\n",
    "\n",
    "model = RandomForestClassifier()\n",
    "\n",
    "# Training and Testing on random forest\n",
    "model.fit(X_train,Y_train)\n",
    "Test_ = model.predict(X_test)\n",
    "\n",
    "#Accuracy of on test data\n",
    "accuracy = accuracy_score(Y_test, Test_)*100\n",
    "print(\"Accuracy using Random Forest is = \")\n",
    "print(accuracy)\n",
    "\n",
    "#Confusion matrix\n",
    "cm = metrics.confusion_matrix(Y_test,Test_)\n",
    "print(\"Confusion Matrix using Random Forest is \\n\" )\n",
    "print(cm)\n",
    "\n",
    "#  report\n",
    "Class_report = metrics.classification_report(Y_test, Test_)\n",
    "print ('Classification report \\n')\n",
    "print(Class_report)"
   ]
  },
  {
   "cell_type": "code",
   "execution_count": 13,
   "id": "71cef806",
   "metadata": {},
   "outputs": [
    {
     "ename": "SyntaxError",
     "evalue": "EOL while scanning string literal (Temp/ipykernel_19176/1823591108.py, line 21)",
     "output_type": "error",
     "traceback": [
      "\u001b[1;36m  File \u001b[1;32m\"C:\\Users\\Super\\AppData\\Local\\Temp/ipykernel_19176/1823591108.py\"\u001b[1;36m, line \u001b[1;32m21\u001b[0m\n\u001b[1;33m    print ('Classification report \\n)\u001b[0m\n\u001b[1;37m                                     ^\u001b[0m\n\u001b[1;31mSyntaxError\u001b[0m\u001b[1;31m:\u001b[0m EOL while scanning string literal\n"
     ]
    }
   ],
   "source": [
    "#Applying Support Vector Machines\n",
    "\n",
    "model = SVC()\n",
    "\n",
    "# Training and Testing on  Support Vector Machines\n",
    "model.fit(X_train,Y_train)\n",
    "Test_ = model.predict(X_test)\n",
    "\n",
    "#Accuracy of on test data\n",
    "accuracy = accuracy_score(Y_test, Test_)*100\n",
    "print(\"Accuracy using Random Forest is = \")\n",
    "print(accuracy)\n",
    "\n",
    "#Confusion matrix\n",
    "cm = metrics.confusion_matrix(Y_test,Test_)\n",
    "print(\"Confusion Matrix using Random Forest is \\n\" )\n",
    "print(cm)\n",
    "\n",
    "#  report\n",
    "Class_report = metrics.classification_report(Y_test, Test_)\n",
    "print ('Classification report \\n)\n",
    "print(Class_report)"
   ]
  },
  {
   "cell_type": "code",
   "execution_count": 14,
   "id": "6535adf8",
   "metadata": {},
   "outputs": [
    {
     "name": "stdout",
     "output_type": "stream",
     "text": [
      "Accuracy using Random Forest is = \n",
      "85.18518518518519\n",
      "Confusion Matrix using Random Forest is \n",
      "\n",
      "[[10  3]\n",
      " [ 1 13]]\n",
      "Classification report \n",
      "\n",
      "              precision    recall  f1-score   support\n",
      "\n",
      "           0       0.91      0.77      0.83        13\n",
      "           1       0.81      0.93      0.87        14\n",
      "\n",
      "    accuracy                           0.85        27\n",
      "   macro avg       0.86      0.85      0.85        27\n",
      "weighted avg       0.86      0.85      0.85        27\n",
      "\n"
     ]
    },
    {
     "name": "stderr",
     "output_type": "stream",
     "text": [
      "C:\\Users\\Super\\anaconda3\\lib\\site-packages\\sklearn\\neural_network\\_multilayer_perceptron.py:614: ConvergenceWarning: Stochastic Optimizer: Maximum iterations (200) reached and the optimization hasn't converged yet.\n",
      "  warnings.warn(\n"
     ]
    }
   ],
   "source": [
    "#Applying Multilayer Perceptron\n",
    "\n",
    "\n",
    "model = MLPClassifier()\n",
    "# Training and Testing on Multilayer Perceptron\n",
    "model.fit(X_train,Y_train)\n",
    "Test_ = model.predict(X_test)\n",
    "\n",
    "#Accuracy of on test data\n",
    "accuracy = accuracy_score(Y_test, Test_)*100\n",
    "print(\"Accuracy using Random Forest is = \")\n",
    "print(accuracy)\n",
    "\n",
    "#Confusion matrix\n",
    "cm = metrics.confusion_matrix(Y_test,Test_)\n",
    "print(\"Confusion Matrix using Random Forest is \\n\" )\n",
    "print(cm)\n",
    "\n",
    "#  report\n",
    "Class_report = metrics.classification_report(Y_test, Test_)\n",
    "print ('Classification report \\n')\n",
    "print(Class_report)"
   ]
  },
  {
   "cell_type": "markdown",
   "id": "44d4224d",
   "metadata": {},
   "source": [
    "##### using 80/20 train test on the given dataset\n"
   ]
  },
  {
   "cell_type": "code",
   "execution_count": 15,
   "id": "c440bec6",
   "metadata": {},
   "outputs": [],
   "source": [
    "# 80/20 train test\n",
    "X_train, X_test, Y_train, Y_test = train_test_split(input_, output, test_size = 0.2, random_state = 9)\n"
   ]
  },
  {
   "cell_type": "code",
   "execution_count": 16,
   "id": "75e54df4",
   "metadata": {},
   "outputs": [
    {
     "name": "stdout",
     "output_type": "stream",
     "text": [
      "Accuracy using Random Forest is = \n",
      "93.75\n",
      "Confusion Matrix using Random Forest is \n",
      "\n",
      "[[7 1]\n",
      " [0 8]]\n",
      "Classification report \n",
      "\n",
      "              precision    recall  f1-score   support\n",
      "\n",
      "           0       1.00      0.88      0.93         8\n",
      "           1       0.89      1.00      0.94         8\n",
      "\n",
      "    accuracy                           0.94        16\n",
      "   macro avg       0.94      0.94      0.94        16\n",
      "weighted avg       0.94      0.94      0.94        16\n",
      "\n"
     ]
    }
   ],
   "source": [
    "#Applying Random Forest\n",
    "\n",
    "model = RandomForestClassifier()\n",
    "\n",
    "# Training and Testing on random forest\n",
    "model.fit(X_train,Y_train)\n",
    "Test_ = model.predict(X_test)\n",
    "\n",
    "#Accuracy of on test data\n",
    "accuracy = accuracy_score(Y_test, Test_)*100\n",
    "print(\"Accuracy using Random Forest is = \")\n",
    "print(accuracy)\n",
    "\n",
    "#Confusion matrix\n",
    "cm = metrics.confusion_matrix(Y_test,Test_)\n",
    "print(\"Confusion Matrix using Random Forest is \\n\" )\n",
    "print(cm)\n",
    "\n",
    "#  report\n",
    "Class_report = metrics.classification_report(Y_test, Test_)\n",
    "print ('Classification report \\n')\n",
    "print(Class_report)"
   ]
  },
  {
   "cell_type": "code",
   "execution_count": 17,
   "id": "a794a4fc",
   "metadata": {},
   "outputs": [
    {
     "name": "stdout",
     "output_type": "stream",
     "text": [
      "Accuracy using Random Forest is = \n",
      "75.0\n",
      "Confusion Matrix using Random Forest is \n",
      "\n",
      "[[5 3]\n",
      " [1 7]]\n",
      "Classification report \n",
      "\n",
      "              precision    recall  f1-score   support\n",
      "\n",
      "           0       0.83      0.62      0.71         8\n",
      "           1       0.70      0.88      0.78         8\n",
      "\n",
      "    accuracy                           0.75        16\n",
      "   macro avg       0.77      0.75      0.75        16\n",
      "weighted avg       0.77      0.75      0.75        16\n",
      "\n"
     ]
    }
   ],
   "source": [
    "#Applying Support Vector Machines\n",
    "\n",
    "model = SVC()\n",
    "\n",
    "# Training and Testing on Support Vector Machines\n",
    "model.fit(X_train,Y_train)\n",
    "Test_ = model.predict(X_test)\n",
    "\n",
    "#Accuracy of on test data\n",
    "accuracy = accuracy_score(Y_test, Test_)*100\n",
    "print(\"Accuracy using Random Forest is = \")\n",
    "print(accuracy)\n",
    "\n",
    "#Confusion matrix\n",
    "cm = metrics.confusion_matrix(Y_test,Test_)\n",
    "print(\"Confusion Matrix using Random Forest is \\n\" )\n",
    "print(cm)\n",
    "\n",
    "#  report\n",
    "Class_report = metrics.classification_report(Y_test, Test_)\n",
    "print ('Classification report \\n')\n",
    "print(Class_report)"
   ]
  },
  {
   "cell_type": "code",
   "execution_count": 18,
   "id": "74af3f2b",
   "metadata": {},
   "outputs": [
    {
     "name": "stdout",
     "output_type": "stream",
     "text": [
      "Accuracy using Random Forest is = \n",
      "50.0\n",
      "Confusion Matrix using Random Forest is \n",
      "\n",
      "[[0 8]\n",
      " [0 8]]\n",
      "Classification report \n",
      "\n",
      "              precision    recall  f1-score   support\n",
      "\n",
      "           0       0.00      0.00      0.00         8\n",
      "           1       0.50      1.00      0.67         8\n",
      "\n",
      "    accuracy                           0.50        16\n",
      "   macro avg       0.25      0.50      0.33        16\n",
      "weighted avg       0.25      0.50      0.33        16\n",
      "\n"
     ]
    },
    {
     "name": "stderr",
     "output_type": "stream",
     "text": [
      "C:\\Users\\Super\\anaconda3\\lib\\site-packages\\sklearn\\metrics\\_classification.py:1248: UndefinedMetricWarning: Precision and F-score are ill-defined and being set to 0.0 in labels with no predicted samples. Use `zero_division` parameter to control this behavior.\n",
      "  _warn_prf(average, modifier, msg_start, len(result))\n",
      "C:\\Users\\Super\\anaconda3\\lib\\site-packages\\sklearn\\metrics\\_classification.py:1248: UndefinedMetricWarning: Precision and F-score are ill-defined and being set to 0.0 in labels with no predicted samples. Use `zero_division` parameter to control this behavior.\n",
      "  _warn_prf(average, modifier, msg_start, len(result))\n",
      "C:\\Users\\Super\\anaconda3\\lib\\site-packages\\sklearn\\metrics\\_classification.py:1248: UndefinedMetricWarning: Precision and F-score are ill-defined and being set to 0.0 in labels with no predicted samples. Use `zero_division` parameter to control this behavior.\n",
      "  _warn_prf(average, modifier, msg_start, len(result))\n"
     ]
    }
   ],
   "source": [
    "#Applying Multilayer Perceptron\n",
    "\n",
    "model = MLPClassifier()\n",
    "# Training and Testing on Multilayer Perceptron\n",
    "model.fit(X_train,Y_train)\n",
    "Test_ = model.predict(X_test)\n",
    "\n",
    "#Accuracy of on test data\n",
    "accuracy = accuracy_score(Y_test, Test_)*100\n",
    "print(\"Accuracy using Random Forest is = \")\n",
    "print(accuracy)\n",
    "\n",
    "#Confusion matrix\n",
    "cm = metrics.confusion_matrix(Y_test,Test_)\n",
    "print(\"Confusion Matrix using Random Forest is \\n\" )\n",
    "print(cm)\n",
    "\n",
    "#  report\n",
    "Class_report = metrics.classification_report(Y_test, Test_)\n",
    "print ('Classification report \\n')\n",
    "print(Class_report)"
   ]
  },
  {
   "cell_type": "code",
   "execution_count": null,
   "id": "64d40c2e",
   "metadata": {},
   "outputs": [],
   "source": []
  },
  {
   "cell_type": "markdown",
   "id": "eed1a589",
   "metadata": {},
   "source": [
    "##### powerful attributes removal   and results\n"
   ]
  },
  {
   "cell_type": "markdown",
   "id": "5fcdd4d1",
   "metadata": {},
   "source": [
    "##### Attr removed = hair lenght and scarf\n"
   ]
  },
  {
   "cell_type": "code",
   "execution_count": 20,
   "id": "33f94f84",
   "metadata": {},
   "outputs": [],
   "source": [
    "#combining input after removal of attributes\n",
    "\n",
    "input_Updated = list(zip(height,weight,hairlength_encod,shoe_size,eyecolor_encod))"
   ]
  },
  {
   "cell_type": "code",
   "execution_count": 21,
   "id": "577945c5",
   "metadata": {},
   "outputs": [],
   "source": [
    "#output \n",
    "output = gender_encod"
   ]
  },
  {
   "cell_type": "code",
   "execution_count": 22,
   "id": "e11ebd96",
   "metadata": {},
   "outputs": [],
   "source": [
    "# 80/20 train test\n",
    "X_train_u, X_test_u, Y_train_u, Y_test_u = train_test_split(input_Updated, output, test_size = 0.2, random_state = 9)\n"
   ]
  },
  {
   "cell_type": "code",
   "execution_count": 23,
   "id": "829011a4",
   "metadata": {},
   "outputs": [
    {
     "name": "stdout",
     "output_type": "stream",
     "text": [
      "Accuracy using Random Forest is = \n",
      "93.75\n",
      "Confusion Matrix using Random Forest is \n",
      "\n",
      "[[7 1]\n",
      " [0 8]]\n",
      "Classification report \n",
      "\n",
      "              precision    recall  f1-score   support\n",
      "\n",
      "           0       1.00      0.88      0.93         8\n",
      "           1       0.89      1.00      0.94         8\n",
      "\n",
      "    accuracy                           0.94        16\n",
      "   macro avg       0.94      0.94      0.94        16\n",
      "weighted avg       0.94      0.94      0.94        16\n",
      "\n"
     ]
    }
   ],
   "source": [
    "#Applying Random Forest\n",
    "\n",
    "model = RandomForestClassifier()\n",
    "\n",
    "# Training and Testing on random forest\n",
    "model.fit(X_train_u,Y_train_u)\n",
    "Test_ = model.predict(X_test_u)\n",
    "\n",
    "#Accuracy of on test data\n",
    "accuracy = accuracy_score(Y_test_u, Test_)*100\n",
    "print(\"Accuracy using Random Forest is = \")\n",
    "print(accuracy)\n",
    "\n",
    "#Confusion matrix\n",
    "cm = metrics.confusion_matrix(Y_test_u,Test_)\n",
    "print(\"Confusion Matrix using Random Forest is \\n\" )\n",
    "print(cm)\n",
    "\n",
    "#  report\n",
    "Class_report = metrics.classification_report(Y_test_u, Test_)\n",
    "print ('Classification report \\n')\n",
    "print(Class_report)"
   ]
  },
  {
   "cell_type": "code",
   "execution_count": 24,
   "id": "edcc264e",
   "metadata": {},
   "outputs": [
    {
     "name": "stdout",
     "output_type": "stream",
     "text": [
      "Accuracy using Random Forest is = \n",
      "75.0\n",
      "Confusion Matrix using Random Forest is \n",
      "\n",
      "[[5 3]\n",
      " [1 7]]\n",
      "Classification report \n",
      "\n",
      "              precision    recall  f1-score   support\n",
      "\n",
      "           0       0.83      0.62      0.71         8\n",
      "           1       0.70      0.88      0.78         8\n",
      "\n",
      "    accuracy                           0.75        16\n",
      "   macro avg       0.77      0.75      0.75        16\n",
      "weighted avg       0.77      0.75      0.75        16\n",
      "\n"
     ]
    }
   ],
   "source": [
    "#Applying Support Vector Machines\n",
    "\n",
    "model = SVC()\n",
    "\n",
    "# Training and Testing on random forest\n",
    "model.fit(X_train_u,Y_train_u)\n",
    "Test_ = model.predict(X_test_u)\n",
    "\n",
    "#Accuracy of on test data\n",
    "accuracy = accuracy_score(Y_test_u, Test_)*100\n",
    "print(\"Accuracy using Random Forest is = \")\n",
    "print(accuracy)\n",
    "\n",
    "#Confusion matrix\n",
    "cm = metrics.confusion_matrix(Y_test_u,Test_)\n",
    "print(\"Confusion Matrix using Random Forest is \\n\" )\n",
    "print(cm)\n",
    "\n",
    "#  report\n",
    "Class_report = metrics.classification_report(Y_test_u, Test_)\n",
    "print ('Classification report \\n')\n",
    "print(Class_report)"
   ]
  },
  {
   "cell_type": "code",
   "execution_count": 25,
   "id": "4de5e57f",
   "metadata": {},
   "outputs": [
    {
     "name": "stdout",
     "output_type": "stream",
     "text": [
      "Accuracy using Random Forest is = \n",
      "68.75\n",
      "Confusion Matrix using Random Forest is \n",
      "\n",
      "[[4 4]\n",
      " [1 7]]\n",
      "Classification report \n",
      "\n",
      "              precision    recall  f1-score   support\n",
      "\n",
      "           0       0.80      0.50      0.62         8\n",
      "           1       0.64      0.88      0.74         8\n",
      "\n",
      "    accuracy                           0.69        16\n",
      "   macro avg       0.72      0.69      0.68        16\n",
      "weighted avg       0.72      0.69      0.68        16\n",
      "\n"
     ]
    }
   ],
   "source": [
    "#Applying Multilayer Perceptron\n",
    "\n",
    "model = MLPClassifier()\n",
    "\n",
    "# Training and Testing on  Multilayer Perceptron\n",
    "model.fit(X_train_u,Y_train_u)\n",
    "Test_ = model.predict(X_test_u)\n",
    "\n",
    "#Accuracy of on test data\n",
    "accuracy = accuracy_score(Y_test_u, Test_)*100\n",
    "print(\"Accuracy using Random Forest is = \")\n",
    "print(accuracy)\n",
    "\n",
    "#Confusion matrix\n",
    "cm = metrics.confusion_matrix(Y_test_u,Test_)\n",
    "print(\"Confusion Matrix using Random Forest is \\n\" )\n",
    "print(cm)\n",
    "\n",
    "#  report\n",
    "Class_report = metrics.classification_report(Y_test_u, Test_)\n",
    "print ('Classification report \\n')\n",
    "print(Class_report)"
   ]
  },
  {
   "cell_type": "markdown",
   "id": "fac959a4",
   "metadata": {},
   "source": [
    "##### Q3 apply  DTC with MC cross validation and LPOut cross validation\n"
   ]
  },
  {
   "cell_type": "code",
   "execution_count": 26,
   "id": "b50aa9f9",
   "metadata": {},
   "outputs": [],
   "source": [
    "# Decision Model tree Implementation\n",
    "model = DecisionTreeClassifier()"
   ]
  },
  {
   "cell_type": "code",
   "execution_count": 27,
   "id": "07805f32",
   "metadata": {},
   "outputs": [
    {
     "name": "stdout",
     "output_type": "stream",
     "text": [
      "f1 score using monte carlo\n",
      "0.9497986496332972\n"
     ]
    }
   ],
   "source": [
    "#Monte Carlo\n",
    "splitcv=ShuffleSplit(n_splits=12,test_size=0.33,random_state=9)\n",
    "f1 = cross_val_score(model, input_Updated, output,scoring='f1', cv=splitcv).mean()\n",
    "print('f1 score using monte carlo')\n",
    "print(f1)"
   ]
  },
  {
   "cell_type": "code",
   "execution_count": null,
   "id": "efe093bf",
   "metadata": {},
   "outputs": [],
   "source": [
    "#LeavePout cross validation\n",
    "l_p_out = LeavePOut(p=5)\n",
    "f1 = cross_val_score(model, input_Updated, output,scoring='f1', cv=l_p_out).mean()\n",
    "print('f1 score using l_p_out')\n",
    "print(f1)"
   ]
  },
  {
   "cell_type": "markdown",
   "id": "a7c62174",
   "metadata": {},
   "source": [
    "##### Q4\n"
   ]
  },
  {
   "cell_type": "code",
   "execution_count": null,
   "id": "16cb55bc",
   "metadata": {},
   "outputs": [],
   "source": [
    "# Read Dataset\n",
    "df = pd.read_csv('gender_prediction.csv')\n",
    "\n",
    "\n",
    "\n",
    "# dataprepration  for  algos\n",
    "\n",
    "\n",
    "input_ = df.drop('gender', axis=1)\n",
    "output=df['gender']\n",
    "\n",
    "#Categorical data conversion into numeric form\n",
    "labels = preprocessing.LabelEncoder()\n",
    "input_.beard_encod = labels.fit_transform(input_.beard)\n",
    "input_hairlength_encod = labels.fit_transform(input_.hair_length)\n",
    "input_scarf_encod = labels.fit_transform(input_.scarf)\n",
    "input_eyecolor_encod = labels.fit_transform(input_.eye_color)\n",
    "output_gender_encod = labels.fit_transform(output.gender)"
   ]
  },
  {
   "cell_type": "code",
   "execution_count": null,
   "id": "d9b73df8",
   "metadata": {},
   "outputs": [],
   "source": [
    "# Sepration of train and test instances\n",
    "\n",
    "\n",
    "#train and test instances\n",
    "train_input = input_.iloc[:82]\n",
    "train_output = output.iloc[:82]\n",
    "test_input = input_.iloc[82:]\n",
    "test_output = output.iloc[82:]\n"
   ]
  },
  {
   "cell_type": "code",
   "execution_count": null,
   "id": "73b6ed8b",
   "metadata": {},
   "outputs": [],
   "source": [
    "# implementing GNB\n",
    "model_GNB = GaussianNB()\n",
    "model_GNB.fit(train_input,train_output)\n",
    "\n",
    "predictions = model_GNB.predict(test_up)\n",
    "\n",
    "\n",
    "accuracy = accuracy_score(test_input, predictions)*100\n",
    "print(\"Accuracy\")\n",
    "print(accuracy)\n",
    "\n",
    "recall = recall_score(test_output,predictions)\n",
    "print(\"Recall = \")\n",
    "print(recall)\n",
    "\n",
    "\n",
    "precision = precision_score(test_output,predictions)\n",
    "print(\"Precision\")\n",
    "print(precision)\n"
   ]
  },
  {
   "cell_type": "code",
   "execution_count": null,
   "id": "aea88eda",
   "metadata": {},
   "outputs": [],
   "source": []
  }
 ],
 "metadata": {
  "kernelspec": {
   "display_name": "Python 3 (ipykernel)",
   "language": "python",
   "name": "python3"
  },
  "language_info": {
   "codemirror_mode": {
    "name": "ipython",
    "version": 3
   },
   "file_extension": ".py",
   "mimetype": "text/x-python",
   "name": "python",
   "nbconvert_exporter": "python",
   "pygments_lexer": "ipython3",
   "version": "3.9.7"
  }
 },
 "nbformat": 4,
 "nbformat_minor": 5
}
