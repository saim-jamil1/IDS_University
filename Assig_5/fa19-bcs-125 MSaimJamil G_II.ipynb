{
 "cells": [
  {
   "cell_type": "code",
   "execution_count": 112,
   "id": "f7506fa2",
   "metadata": {},
   "outputs": [],
   "source": [
    "import pandas as pd\n",
    "from sklearn.feature_extraction.text import CountVectorizer,TfidfVectorizer,TfidfTransformer\n",
    "from sklearn.metrics.pairwise import cosine_similarity"
   ]
  },
  {
   "cell_type": "code",
   "execution_count": 113,
   "id": "b6eeb106",
   "metadata": {},
   "outputs": [],
   "source": [
    "data =[ 'sunshine state enjoy sunshine','brown fox jump high, brown fox run','sunshine state fox run fast']\n"
   ]
  },
  {
   "cell_type": "markdown",
   "id": "bad6306e",
   "metadata": {},
   "source": [
    "# Q1"
   ]
  },
  {
   "cell_type": "code",
   "execution_count": 114,
   "id": "ead63204",
   "metadata": {},
   "outputs": [
    {
     "data": {
      "text/plain": [
       "CountVectorizer(stop_words='english')"
      ]
     },
     "execution_count": 114,
     "metadata": {},
     "output_type": "execute_result"
    }
   ],
   "source": [
    "# fit data\n",
    "bow = CountVectorizer(stop_words = 'english')\n",
    "bow.fit(data)"
   ]
  },
  {
   "cell_type": "code",
   "execution_count": 115,
   "id": "21f49fa1",
   "metadata": {},
   "outputs": [
    {
     "data": {
      "text/plain": [
       "['brown', 'enjoy', 'fast', 'fox', 'high', 'jump', 'run', 'state', 'sunshine']"
      ]
     },
     "execution_count": 115,
     "metadata": {},
     "output_type": "execute_result"
    }
   ],
   "source": [
    "# tokenize sentences to get words and vector\n",
    "featuress = bow.get_feature_names()\n",
    "featuress"
   ]
  },
  {
   "cell_type": "code",
   "execution_count": 116,
   "id": "bb530465",
   "metadata": {},
   "outputs": [
    {
     "data": {
      "text/html": [
       "<div>\n",
       "<style scoped>\n",
       "    .dataframe tbody tr th:only-of-type {\n",
       "        vertical-align: middle;\n",
       "    }\n",
       "\n",
       "    .dataframe tbody tr th {\n",
       "        vertical-align: top;\n",
       "    }\n",
       "\n",
       "    .dataframe thead th {\n",
       "        text-align: right;\n",
       "    }\n",
       "</style>\n",
       "<table border=\"1\" class=\"dataframe\">\n",
       "  <thead>\n",
       "    <tr style=\"text-align: right;\">\n",
       "      <th></th>\n",
       "      <th>brown</th>\n",
       "      <th>enjoy</th>\n",
       "      <th>fast</th>\n",
       "      <th>fox</th>\n",
       "      <th>high</th>\n",
       "      <th>jump</th>\n",
       "      <th>run</th>\n",
       "      <th>state</th>\n",
       "      <th>sunshine</th>\n",
       "    </tr>\n",
       "  </thead>\n",
       "  <tbody>\n",
       "    <tr>\n",
       "      <th>s1</th>\n",
       "      <td>0</td>\n",
       "      <td>1</td>\n",
       "      <td>0</td>\n",
       "      <td>0</td>\n",
       "      <td>0</td>\n",
       "      <td>0</td>\n",
       "      <td>0</td>\n",
       "      <td>1</td>\n",
       "      <td>2</td>\n",
       "    </tr>\n",
       "    <tr>\n",
       "      <th>s2</th>\n",
       "      <td>2</td>\n",
       "      <td>0</td>\n",
       "      <td>0</td>\n",
       "      <td>2</td>\n",
       "      <td>1</td>\n",
       "      <td>1</td>\n",
       "      <td>1</td>\n",
       "      <td>0</td>\n",
       "      <td>0</td>\n",
       "    </tr>\n",
       "    <tr>\n",
       "      <th>s3</th>\n",
       "      <td>0</td>\n",
       "      <td>0</td>\n",
       "      <td>1</td>\n",
       "      <td>1</td>\n",
       "      <td>0</td>\n",
       "      <td>0</td>\n",
       "      <td>1</td>\n",
       "      <td>1</td>\n",
       "      <td>1</td>\n",
       "    </tr>\n",
       "  </tbody>\n",
       "</table>\n",
       "</div>"
      ],
      "text/plain": [
       "    brown  enjoy  fast  fox  high  jump  run  state  sunshine\n",
       "s1      0      1     0    0     0     0    0      1         2\n",
       "s2      2      0     0    2     1     1    1      0         0\n",
       "s3      0      0     1    1     0     0    1      1         1"
      ]
     },
     "execution_count": 116,
     "metadata": {},
     "output_type": "execute_result"
    }
   ],
   "source": [
    "# feature array vector\n",
    "bow_feature = bow.transform(data)\n",
    "bow_feature_val = bow_feature.toarray()\n",
    "vocabulary = featuress\n",
    "# converting array into dataframe\n",
    "data_frame = pd.DataFrame(bow_feature_val,columns=vocabulary,index=['s1','s2','s3'])\n",
    "data_frame"
   ]
  },
  {
   "cell_type": "code",
   "execution_count": 118,
   "id": "f2253c3e",
   "metadata": {},
   "outputs": [
    {
     "data": {
      "text/html": [
       "<div>\n",
       "<style scoped>\n",
       "    .dataframe tbody tr th:only-of-type {\n",
       "        vertical-align: middle;\n",
       "    }\n",
       "\n",
       "    .dataframe tbody tr th {\n",
       "        vertical-align: top;\n",
       "    }\n",
       "\n",
       "    .dataframe thead th {\n",
       "        text-align: right;\n",
       "    }\n",
       "</style>\n",
       "<table border=\"1\" class=\"dataframe\">\n",
       "  <thead>\n",
       "    <tr style=\"text-align: right;\">\n",
       "      <th></th>\n",
       "      <th>brown</th>\n",
       "      <th>enjoy</th>\n",
       "      <th>fast</th>\n",
       "      <th>fox</th>\n",
       "      <th>high</th>\n",
       "      <th>jump</th>\n",
       "      <th>run</th>\n",
       "      <th>state</th>\n",
       "      <th>sunshine</th>\n",
       "    </tr>\n",
       "  </thead>\n",
       "  <tbody>\n",
       "    <tr>\n",
       "      <th>s1</th>\n",
       "      <td>0.000000</td>\n",
       "      <td>0.50689</td>\n",
       "      <td>0.000000</td>\n",
       "      <td>0.000000</td>\n",
       "      <td>0.000000</td>\n",
       "      <td>0.000000</td>\n",
       "      <td>0.000000</td>\n",
       "      <td>0.385503</td>\n",
       "      <td>0.771006</td>\n",
       "    </tr>\n",
       "    <tr>\n",
       "      <th>s2</th>\n",
       "      <td>0.670703</td>\n",
       "      <td>0.00000</td>\n",
       "      <td>0.000000</td>\n",
       "      <td>0.510087</td>\n",
       "      <td>0.335352</td>\n",
       "      <td>0.335352</td>\n",
       "      <td>0.255044</td>\n",
       "      <td>0.000000</td>\n",
       "      <td>0.000000</td>\n",
       "    </tr>\n",
       "    <tr>\n",
       "      <th>s3</th>\n",
       "      <td>0.000000</td>\n",
       "      <td>0.00000</td>\n",
       "      <td>0.549351</td>\n",
       "      <td>0.417796</td>\n",
       "      <td>0.000000</td>\n",
       "      <td>0.000000</td>\n",
       "      <td>0.417796</td>\n",
       "      <td>0.417796</td>\n",
       "      <td>0.417796</td>\n",
       "    </tr>\n",
       "  </tbody>\n",
       "</table>\n",
       "</div>"
      ],
      "text/plain": [
       "       brown    enjoy      fast       fox      high      jump       run  \\\n",
       "s1  0.000000  0.50689  0.000000  0.000000  0.000000  0.000000  0.000000   \n",
       "s2  0.670703  0.00000  0.000000  0.510087  0.335352  0.335352  0.255044   \n",
       "s3  0.000000  0.00000  0.549351  0.417796  0.000000  0.000000  0.417796   \n",
       "\n",
       "       state  sunshine  \n",
       "s1  0.385503  0.771006  \n",
       "s2  0.000000  0.000000  \n",
       "s3  0.417796  0.417796  "
      ]
     },
     "execution_count": 118,
     "metadata": {},
     "output_type": "execute_result"
    }
   ],
   "source": [
    "# generate tf\n",
    "tf = TfidfVectorizer(use_idf=False)\n",
    "tf.fit(data)\n",
    "tf_featu = tfidf.transform(data)\n",
    "tf_val = tfidffeatu.toarray()\n",
    "# converting array into dataframe\n",
    "data_frame = pd.DataFrame(tf_val,columns=vocabulary,index=['s1','s2','s3'])\n",
    "data_frame\n"
   ]
  },
  {
   "cell_type": "code",
   "execution_count": 122,
   "id": "1a063afd",
   "metadata": {},
   "outputs": [
    {
     "data": {
      "text/html": [
       "<div>\n",
       "<style scoped>\n",
       "    .dataframe tbody tr th:only-of-type {\n",
       "        vertical-align: middle;\n",
       "    }\n",
       "\n",
       "    .dataframe tbody tr th {\n",
       "        vertical-align: top;\n",
       "    }\n",
       "\n",
       "    .dataframe thead th {\n",
       "        text-align: right;\n",
       "    }\n",
       "</style>\n",
       "<table border=\"1\" class=\"dataframe\">\n",
       "  <thead>\n",
       "    <tr style=\"text-align: right;\">\n",
       "      <th></th>\n",
       "      <th>idf</th>\n",
       "    </tr>\n",
       "  </thead>\n",
       "  <tbody>\n",
       "    <tr>\n",
       "      <th>brown</th>\n",
       "      <td>1.693147</td>\n",
       "    </tr>\n",
       "    <tr>\n",
       "      <th>enjoy</th>\n",
       "      <td>1.693147</td>\n",
       "    </tr>\n",
       "    <tr>\n",
       "      <th>fast</th>\n",
       "      <td>1.693147</td>\n",
       "    </tr>\n",
       "    <tr>\n",
       "      <th>fox</th>\n",
       "      <td>1.287682</td>\n",
       "    </tr>\n",
       "    <tr>\n",
       "      <th>high</th>\n",
       "      <td>1.693147</td>\n",
       "    </tr>\n",
       "    <tr>\n",
       "      <th>jump</th>\n",
       "      <td>1.693147</td>\n",
       "    </tr>\n",
       "    <tr>\n",
       "      <th>run</th>\n",
       "      <td>1.287682</td>\n",
       "    </tr>\n",
       "    <tr>\n",
       "      <th>state</th>\n",
       "      <td>1.287682</td>\n",
       "    </tr>\n",
       "    <tr>\n",
       "      <th>sunshine</th>\n",
       "      <td>1.287682</td>\n",
       "    </tr>\n",
       "  </tbody>\n",
       "</table>\n",
       "</div>"
      ],
      "text/plain": [
       "               idf\n",
       "brown     1.693147\n",
       "enjoy     1.693147\n",
       "fast      1.693147\n",
       "fox       1.287682\n",
       "high      1.693147\n",
       "jump      1.693147\n",
       "run       1.287682\n",
       "state     1.287682\n",
       "sunshine  1.287682"
      ]
     },
     "execution_count": 122,
     "metadata": {},
     "output_type": "execute_result"
    }
   ],
   "source": [
    "# generate idf\n",
    "idf = TfidfVectorizer(use_idf=True)\n",
    "idf.fit(data)\n",
    "idffeatu = idf.transform(data)\n",
    "idf_val= idf.idf_\n",
    "# converting array into dataframe\n",
    "data_frame = pd.DataFrame(idf_val,index=vocabulary,columns = ['idf'])\n",
    "data_frame"
   ]
  },
  {
   "cell_type": "code",
   "execution_count": 123,
   "id": "aa0ad7e1",
   "metadata": {},
   "outputs": [
    {
     "data": {
      "text/html": [
       "<div>\n",
       "<style scoped>\n",
       "    .dataframe tbody tr th:only-of-type {\n",
       "        vertical-align: middle;\n",
       "    }\n",
       "\n",
       "    .dataframe tbody tr th {\n",
       "        vertical-align: top;\n",
       "    }\n",
       "\n",
       "    .dataframe thead th {\n",
       "        text-align: right;\n",
       "    }\n",
       "</style>\n",
       "<table border=\"1\" class=\"dataframe\">\n",
       "  <thead>\n",
       "    <tr style=\"text-align: right;\">\n",
       "      <th></th>\n",
       "      <th>brown</th>\n",
       "      <th>enjoy</th>\n",
       "      <th>fast</th>\n",
       "      <th>fox</th>\n",
       "      <th>high</th>\n",
       "      <th>jump</th>\n",
       "      <th>run</th>\n",
       "      <th>state</th>\n",
       "      <th>sunshine</th>\n",
       "    </tr>\n",
       "  </thead>\n",
       "  <tbody>\n",
       "    <tr>\n",
       "      <th>s1</th>\n",
       "      <td>0.000000</td>\n",
       "      <td>0.50689</td>\n",
       "      <td>0.000000</td>\n",
       "      <td>0.000000</td>\n",
       "      <td>0.000000</td>\n",
       "      <td>0.000000</td>\n",
       "      <td>0.000000</td>\n",
       "      <td>0.385503</td>\n",
       "      <td>0.771006</td>\n",
       "    </tr>\n",
       "    <tr>\n",
       "      <th>s2</th>\n",
       "      <td>0.670703</td>\n",
       "      <td>0.00000</td>\n",
       "      <td>0.000000</td>\n",
       "      <td>0.510087</td>\n",
       "      <td>0.335352</td>\n",
       "      <td>0.335352</td>\n",
       "      <td>0.255044</td>\n",
       "      <td>0.000000</td>\n",
       "      <td>0.000000</td>\n",
       "    </tr>\n",
       "    <tr>\n",
       "      <th>s3</th>\n",
       "      <td>0.000000</td>\n",
       "      <td>0.00000</td>\n",
       "      <td>0.549351</td>\n",
       "      <td>0.417796</td>\n",
       "      <td>0.000000</td>\n",
       "      <td>0.000000</td>\n",
       "      <td>0.417796</td>\n",
       "      <td>0.417796</td>\n",
       "      <td>0.417796</td>\n",
       "    </tr>\n",
       "  </tbody>\n",
       "</table>\n",
       "</div>"
      ],
      "text/plain": [
       "       brown    enjoy      fast       fox      high      jump       run  \\\n",
       "s1  0.000000  0.50689  0.000000  0.000000  0.000000  0.000000  0.000000   \n",
       "s2  0.670703  0.00000  0.000000  0.510087  0.335352  0.335352  0.255044   \n",
       "s3  0.000000  0.00000  0.549351  0.417796  0.000000  0.000000  0.417796   \n",
       "\n",
       "       state  sunshine  \n",
       "s1  0.385503  0.771006  \n",
       "s2  0.000000  0.000000  \n",
       "s3  0.417796  0.417796  "
      ]
     },
     "execution_count": 123,
     "metadata": {},
     "output_type": "execute_result"
    }
   ],
   "source": [
    "# generate tfidf\n",
    "tfidf = TfidfVectorizer()\n",
    "tfidf.fit(data)\n",
    "tfidffeatu = tfidf.transform(data)\n",
    "tfidf_val = tfidffeatu.toarray()\n",
    "# converting array into dataframe\n",
    "data_frame = pd.DataFrame(tfidf_val,columns=vocabulary,index=['s1','s2','s3'])\n",
    "data_frame"
   ]
  },
  {
   "cell_type": "markdown",
   "id": "6f9c8647",
   "metadata": {},
   "source": [
    "# Q2\n"
   ]
  },
  {
   "cell_type": "code",
   "execution_count": 124,
   "id": "150d9660",
   "metadata": {},
   "outputs": [
    {
     "data": {
      "text/plain": [
       "array([[0.48318447]])"
      ]
     },
     "execution_count": 124,
     "metadata": {},
     "output_type": "execute_result"
    }
   ],
   "source": [
    "cosine = tf_val\n",
    "cosine_similarity([cosine[0]],[cosine[2]])"
   ]
  }
 ],
 "metadata": {
  "kernelspec": {
   "display_name": "Python 3 (ipykernel)",
   "language": "python",
   "name": "python3"
  },
  "language_info": {
   "codemirror_mode": {
    "name": "ipython",
    "version": 3
   },
   "file_extension": ".py",
   "mimetype": "text/x-python",
   "name": "python",
   "nbconvert_exporter": "python",
   "pygments_lexer": "ipython3",
   "version": "3.9.7"
  }
 },
 "nbformat": 4,
 "nbformat_minor": 5
}
